{
 "cells": [
  {
   "cell_type": "code",
   "execution_count": 1,
   "metadata": {},
   "outputs": [],
   "source": [
    "import pickle\n",
    "import networkx as nx"
   ]
  },
  {
   "cell_type": "code",
   "execution_count": 2,
   "metadata": {},
   "outputs": [],
   "source": [
    "with open('./drknows/SNOMED_CUI_MAJID_Graph_wSelf.pkl', 'rb') as f:\n",
    "  drknows_digraph = pickle.load(f, encoding='latin1')"
   ]
  },
  {
   "cell_type": "code",
   "execution_count": 2,
   "metadata": {},
   "outputs": [],
   "source": [
    "with open('./drknows/sm_t047_cui_aui_eng.pkl', 'rb') as f:\n",
    "  drknows_vocab = pickle.load(f, encoding='latin1')"
   ]
  },
  {
   "cell_type": "code",
   "execution_count": 7,
   "metadata": {},
   "outputs": [],
   "source": [
    "with open('./drknows/GraphModel_SNOMED_CUI_Embedding.pkl', 'rb') as f:\n",
    "  drknows_emb = pickle.load(f, encoding='latin1')"
   ]
  },
  {
   "cell_type": "code",
   "execution_count": null,
   "metadata": {},
   "outputs": [],
   "source": [
    "print(len(drknows_emb.items()))\n",
    "for u,v in drknows_emb.items():\n",
    "    print(u,v)\n",
    "    break"
   ]
  },
  {
   "cell_type": "code",
   "execution_count": 4,
   "metadata": {},
   "outputs": [
    {
     "name": "stdout",
     "output_type": "stream",
     "text": [
      "489354\n",
      "C0238502 [['A18691089', 'prolapse of urethra'], ['A3648946', 'Prolapse of urethra (disorder)'], ['A9341324', 'urethral prolapse'], ['A18616889', 'urethrocele'], ['A4448523', 'prolapse; urinary meatus'], ['A14149161', 'urethral prolapse'], ['A13560475', 'urethrocele (diagnosis)'], ['A4466493', 'urethra; prolapse'], ['A2950407', 'Urethrocele'], ['A18672592', 'urethra prolapse'], ['A0468309', 'URETHRA, PROLAPSE'], ['A17853588', 'Urethrocele'], ['A1862401', 'Prolapse;urethral'], ['A13651226', 'urethrocele'], ['A13809400', 'urethrocele (physical finding)'], ['A0468350', 'URETHROCELE'], ['A8352998', 'Urethrocele'], ['A20162504', 'Urethrocele'], ['A24681653', 'Urethrocele'], ['A25707233', 'Urethral prolapse'], ['A18691090', 'prolapse urethral'], ['A0469072', 'Urethrocele'], ['A32299807', 'Urethral prolapse'], ['A23002095', 'Urethrocele'], ['A2978632', 'Prolapse of urethra'], ['A14066136', 'urethral urethrocele'], ['A4448521', 'prolapse; urethra'], ['A0469073', 'Urethrocele'], ['A0007495', 'Urethral prolapse'], ['A14224327', 'Urethral prolapse'], ['A8356780', 'Prolapse of urethra'], ['A4466611', 'urinary meatus; prolapse'], ['A0468349', 'URETHROCELE'], ['A13560470', 'urethral prolapse (diagnosis)'], ['A14103223', 'urethrocele'], ['A0468348', 'URETHROCELE'], ['A8352999', 'Urethrocele'], ['A18561300', 'prolapse urethra'], ['A16973918', 'Urethrocele'], ['A0469071', 'Urethrocele'], ['A23156462', 'Urethral prolapse'], ['A0578467', 'Prolapse of urethra'], ['A13937365', 'urethral urethrocele'], ['A6839577', 'Prolapse of urethra'], ['A18654104', 'urethral prolapse'], ['A32308913', 'Urethrocoele']]\n"
     ]
    }
   ],
   "source": [
    "print(len(drknows_vocab.items()))\n",
    "for u,v in drknows_vocab.items():\n",
    "    print(u,v)\n",
    "    break"
   ]
  },
  {
   "cell_type": "code",
   "execution_count": 13,
   "metadata": {},
   "outputs": [
    {
     "name": "stdout",
     "output_type": "stream",
     "text": [
      "Node Attributes:\n",
      "<class 'str'> C0000039\n"
     ]
    }
   ],
   "source": [
    "print(\"Node Attributes:\")\n",
    "for node in drknows_digraph.nodes():\n",
    "    print(type(node),node)\n",
    "    break"
   ]
  },
  {
   "cell_type": "code",
   "execution_count": 7,
   "metadata": {},
   "outputs": [
    {
     "name": "stdout",
     "output_type": "stream",
     "text": [
      "\n",
      "Edge Attributes:\n",
      "Edge ('C0000039', 'C0523614'): {'label': 'has measured component'}\n"
     ]
    }
   ],
   "source": [
    "print(\"\\nEdge Attributes:\")\n",
    "for edge in drknows_digraph.edges():\n",
    "    print(f\"Edge {edge}: {drknows_digraph.edges[edge]}\")\n",
    "    break"
   ]
  },
  {
   "cell_type": "code",
   "execution_count": null,
   "metadata": {},
   "outputs": [],
   "source": [
    "print(\"Node Attributes:\")\n",
    "for node in drknows_digraph.nodes():\n",
    "    print(f\"Node {node}: {drknows_digraph.nodes[node]}\")\n",
    "    break"
   ]
  },
  {
   "cell_type": "code",
   "execution_count": null,
   "metadata": {},
   "outputs": [],
   "source": [
    "from collections import Counter\n",
    "\n",
    "CUI_dict = Counter()\n",
    "for node in drknows_digraph.nodes():\n",
    "    CUI_dict[node] += 1\n",
    "\n",
    "\n"
   ]
  },
  {
   "cell_type": "code",
   "execution_count": null,
   "metadata": {},
   "outputs": [],
   "source": [
    "for k, v in CUI_dict.items():\n",
    "    print(k, v)"
   ]
  },
  {
   "cell_type": "code",
   "execution_count": 14,
   "metadata": {},
   "outputs": [
    {
     "name": "stdout",
     "output_type": "stream",
     "text": [
      "[('C0000039', 1), ('C0523614', 1), ('C0216971', 1), ('C0031610', 1), ('C0031614', 1), ('C0031618', 1), ('C0031621', 1), ('C0053738', 1), ('C0301704', 1), ('C0301705', 1)]\n"
     ]
    }
   ],
   "source": [
    "print(CUI_dict.most_common(10))"
   ]
  },
  {
   "cell_type": "code",
   "execution_count": 15,
   "metadata": {},
   "outputs": [
    {
     "name": "stdout",
     "output_type": "stream",
     "text": [
      "407288\n"
     ]
    }
   ],
   "source": [
    "print(len(CUI_dict))"
   ]
  },
  {
   "cell_type": "code",
   "execution_count": 17,
   "metadata": {},
   "outputs": [],
   "source": [
    "from collections import Counter\n",
    "\n",
    "REL_dict = Counter()\n",
    "for edge in drknows_digraph.edges():\n",
    "    REL_dict[drknows_digraph.edges[edge]['label']] += 1"
   ]
  },
  {
   "cell_type": "code",
   "execution_count": 18,
   "metadata": {},
   "outputs": [
    {
     "name": "stdout",
     "output_type": "stream",
     "text": [
      "[('isa', 923143), ('self', 407288), ('has finding site', 232782), ('finding site of', 232779), ('associated morphology of', 134607), ('has associated morphology', 131466), ('method of', 125874), ('has method', 123821), ('is interpreted by', 77694), ('interprets', 77447)]\n",
      "108\n"
     ]
    }
   ],
   "source": [
    "print(REL_dict.most_common(10))\n",
    "print(len(REL_dict))\n"
   ]
  },
  {
   "cell_type": "code",
   "execution_count": 6,
   "metadata": {},
   "outputs": [
    {
     "name": "stdout",
     "output_type": "stream",
     "text": [
      "C0238502 [['A18691089', 'prolapse of urethra'], ['A3648946', 'Prolapse of urethra (disorder)'], ['A9341324', 'urethral prolapse'], ['A18616889', 'urethrocele'], ['A4448523', 'prolapse; urinary meatus'], ['A14149161', 'urethral prolapse'], ['A13560475', 'urethrocele (diagnosis)'], ['A4466493', 'urethra; prolapse'], ['A2950407', 'Urethrocele'], ['A18672592', 'urethra prolapse'], ['A0468309', 'URETHRA, PROLAPSE'], ['A17853588', 'Urethrocele'], ['A1862401', 'Prolapse;urethral'], ['A13651226', 'urethrocele'], ['A13809400', 'urethrocele (physical finding)'], ['A0468350', 'URETHROCELE'], ['A8352998', 'Urethrocele'], ['A20162504', 'Urethrocele'], ['A24681653', 'Urethrocele'], ['A25707233', 'Urethral prolapse'], ['A18691090', 'prolapse urethral'], ['A0469072', 'Urethrocele'], ['A32299807', 'Urethral prolapse'], ['A23002095', 'Urethrocele'], ['A2978632', 'Prolapse of urethra'], ['A14066136', 'urethral urethrocele'], ['A4448521', 'prolapse; urethra'], ['A0469073', 'Urethrocele'], ['A0007495', 'Urethral prolapse'], ['A14224327', 'Urethral prolapse'], ['A8356780', 'Prolapse of urethra'], ['A4466611', 'urinary meatus; prolapse'], ['A0468349', 'URETHROCELE'], ['A13560470', 'urethral prolapse (diagnosis)'], ['A14103223', 'urethrocele'], ['A0468348', 'URETHROCELE'], ['A8352999', 'Urethrocele'], ['A18561300', 'prolapse urethra'], ['A16973918', 'Urethrocele'], ['A0469071', 'Urethrocele'], ['A23156462', 'Urethral prolapse'], ['A0578467', 'Prolapse of urethra'], ['A13937365', 'urethral urethrocele'], ['A6839577', 'Prolapse of urethra'], ['A18654104', 'urethral prolapse'], ['A32308913', 'Urethrocoele']]\n"
     ]
    }
   ],
   "source": [
    "for k,v in drknows_vocab.items():\n",
    "    print(k,v)\n",
    "    break"
   ]
  },
  {
   "cell_type": "code",
   "execution_count": 11,
   "metadata": {},
   "outputs": [
    {
     "name": "stdout",
     "output_type": "stream",
     "text": [
      "\n",
      "--- 查詢 CUI: C0008031 ---\n",
      "正在查詢 CUI: C0008031 的基本資訊...\n",
      "請求 URL: https://uts-ws.nlm.nih.gov/rest/content/current/CUI/C0008031\n",
      "\n",
      "基本資訊:\n",
      "  名稱 (Name): Chest Pain\n",
      "  語義類型 (Semantic Types):\n",
      "    - Sign or Symptom (TUI: T184)\n",
      "\n",
      "正在查詢 CUI: C0008031 的定義...\n",
      "請求 URL: https://uts-ws.nlm.nih.gov/rest/content/current/CUI/C0008031/definitions\n",
      "\n",
      "定義 (Definitions):\n",
      "  1. An unpleasant sensation characterized by physical discomfort (such as pricking, throbbing, or aching) localized to the chest. []\n",
      "  2. Pain in the chest.\n",
      "  3. <p>Having a pain in your chest can be scary. It does not always mean that you are having a <a href=\"https://medlineplus.gov/heartattack.html\">heart attack</a>. There can be many other causes, including:</p><ul> <li>Other heart problems, such as <a href=\"https://medlineplus.gov/angina.html\">angina</a></li> <li><a href=\"https://medlineplus.gov/panicdisorder.html\">Panic attacks</a></li> <li>Digestive problems, such as <a href=\"https://medlineplus.gov/heartburn.html\">heartburn</a> or <a href=\"https://medlineplus.gov/esophagusdisorders.html\">esophagus disorders</a></li> <li>Sore muscles</li> <li>Lung diseases, such as <a href=\"https://medlineplus.gov/pneumonia.html\">pneumonia</a>, <a href=\"https://medlineplus.gov/pleuraldisorders.html\">pleurisy</a>, or <a href=\"https://medlineplus.gov/pulmonaryembolism.html\">pulmonary embolism</a></li> <li>Costochondritis - an inflammation of joints in your chest</li> </ul> <p>Some of these problems can be serious. Get immediate medical care if you have chest pain that does not go away, crushing pain or pressure in the chest, or chest pain along with nausea, sweating, dizziness or shortness of breath. Treatment depends on the cause of the pain.</p>\n",
      "  4. Tlak, pálení nebo znecitlivění v hrudníku.\n",
      "  5. Pressure, burning, or numbness in the chest.\n",
      "  6. Sensation of unpleasant feeling indicating potential or actual damage to some body structure felt in the chest.\n",
      "  7. Sensation of unpleasant feeling indicating potential or actual damage to some body structure felt in the chest.\n",
      "  8. Pressão, queimadura ou entorpecimento no peito.\n",
      "  9. Følelse av press, brennende følelse eller følelse av nummenhet i brystet.\n",
      "  10. Tryckande, brännande eller domningskänsla i bröstet.\n",
      "  11. Opresión, ardor o adormecimiento en el pecho.\n"
     ]
    }
   ],
   "source": [
    "import requests\n",
    "import json\n",
    "\n",
    "# -----------------------------------------------------------------------------\n",
    "#  設定 (請替換成你自己的 API Key)\n",
    "# -----------------------------------------------------------------------------\n",
    "# !! 重要 !!: 你需要先到 https://uts.nlm.nih.gov/uts/signup-login 註冊 UMLS 帳號並取得 API Key\n",
    "API_KEY = \"2b0b0085-3b15-4802-b271-893f645f0f34\" # <--- 請務必替換成你自己的 API 金鑰\n",
    "\n",
    "# UMLS UTS API 的基礎 URL\n",
    "BASE_URL = \"https://uts-ws.nlm.nih.gov/rest\"\n",
    "\n",
    "# -----------------------------------------------------------------------------\n",
    "#  函數：取得 CUI 的基本資訊 (名稱, 語義類型)\n",
    "# -----------------------------------------------------------------------------\n",
    "def get_cui_basic_info(cui, api_key):\n",
    "    \"\"\"\n",
    "    使用 UMLS UTS API 取得指定 CUI 的名稱和語義類型。\n",
    "\n",
    "    Args:\n",
    "        cui (str): 要查詢的概念唯一標識符 (CUI)。\n",
    "        api_key (str): 你的 UMLS UTS API 金鑰。\n",
    "\n",
    "    Returns:\n",
    "        dict: 包含名稱和語義類型列表的字典，如果查詢失敗則返回 None。\n",
    "              {'name': 'Preferred Name', 'semantic_types': [{'name': 'ST Name', 'tui': 'TUI'}]}\n",
    "    \"\"\"\n",
    "    endpoint = f\"/content/current/CUI/{cui}\"\n",
    "    full_url = BASE_URL + endpoint\n",
    "    query_params = {\"apiKey\": api_key}\n",
    "    headers = {\"Accept\": \"application/json\"}\n",
    "\n",
    "    print(f\"正在查詢 CUI: {cui} 的基本資訊...\")\n",
    "    print(f\"請求 URL: {full_url}\")\n",
    "\n",
    "    try:\n",
    "        response = requests.get(full_url, params=query_params, headers=headers)\n",
    "        response.raise_for_status()  # 檢查請求是否成功 (狀態碼 2xx)\n",
    "\n",
    "        data = response.json()\n",
    "\n",
    "        # 檢查回傳結果是否有效\n",
    "        if data and data.get(\"result\"):\n",
    "            result = data[\"result\"]\n",
    "            cui_info = {\n",
    "                \"name\": result.get(\"name\", \"N/A\"),\n",
    "                \"semantic_types\": []\n",
    "            }\n",
    "            # 提取語義類型名稱和 TUI\n",
    "            semantic_types_data = result.get(\"semanticTypes\", [])\n",
    "            for st in semantic_types_data:\n",
    "                # TUI 通常在 uri 的最後一部分\n",
    "                tui = st.get('uri', '').split('/')[-1] if st.get('uri') else 'N/A'\n",
    "                cui_info[\"semantic_types\"].append({\n",
    "                    \"name\": st.get(\"name\", \"N/A\"),\n",
    "                    \"tui\": tui\n",
    "                })\n",
    "            return cui_info\n",
    "        else:\n",
    "            print(f\"錯誤：API 回應中未找到 'result' 或結果為空。回應: {data}\")\n",
    "            return None\n",
    "\n",
    "    except requests.exceptions.HTTPError as http_err:\n",
    "        print(f\"HTTP 錯誤: {http_err}\")\n",
    "        print(f\"回應內容: {response.text}\") # 顯示錯誤訊息可能有助於診斷\n",
    "        if response.status_code == 401:\n",
    "            print(\"錯誤：請檢查你的 API Key 是否正確或有效。\")\n",
    "        elif response.status_code == 404:\n",
    "             print(f\"錯誤：找不到 CUI {cui}。\")\n",
    "    except requests.exceptions.RequestException as req_err:\n",
    "        print(f\"請求錯誤: {req_err}\")\n",
    "    except json.JSONDecodeError:\n",
    "        print(f\"錯誤：無法解析 API 回應為 JSON。回應內容: {response.text}\")\n",
    "    except Exception as e:\n",
    "        print(f\"發生未預期錯誤: {e}\")\n",
    "\n",
    "    return None\n",
    "\n",
    "# -----------------------------------------------------------------------------\n",
    "#  函數：取得 CUI 的定義 (需要額外呼叫)\n",
    "# -----------------------------------------------------------------------------\n",
    "def get_cui_definitions(cui, api_key):\n",
    "    \"\"\"\n",
    "    使用 UMLS UTS API 取得指定 CUI 的定義列表。\n",
    "\n",
    "    Args:\n",
    "        cui (str): 要查詢的概念唯一標識符 (CUI)。\n",
    "        api_key (str): 你的 UMLS UTS API 金鑰。\n",
    "\n",
    "    Returns:\n",
    "        list: 包含定義字串的列表，如果查詢失敗則返回 None。\n",
    "    \"\"\"\n",
    "    endpoint = f\"/content/current/CUI/{cui}/definitions\"\n",
    "    full_url = BASE_URL + endpoint\n",
    "    query_params = {\"apiKey\": api_key}\n",
    "    headers = {\"Accept\": \"application/json\"}\n",
    "\n",
    "    print(f\"\\n正在查詢 CUI: {cui} 的定義...\")\n",
    "    print(f\"請求 URL: {full_url}\")\n",
    "\n",
    "    try:\n",
    "        response = requests.get(full_url, params=query_params, headers=headers)\n",
    "        response.raise_for_status()\n",
    "\n",
    "        data = response.json()\n",
    "\n",
    "        if data and data.get(\"result\"):\n",
    "            # 提取定義的值\n",
    "            definitions = [definition.get(\"value\", \"N/A\") for definition in data[\"result\"]]\n",
    "            return definitions\n",
    "        else:\n",
    "            print(f\"錯誤：API 回應中未找到 'result' 或結果為空。回應: {data}\")\n",
    "            return None # 或者可以返回 [] 表示沒有找到定義\n",
    "\n",
    "    except requests.exceptions.HTTPError as http_err:\n",
    "        print(f\"HTTP 錯誤: {http_err}\")\n",
    "        print(f\"回應內容: {response.text}\")\n",
    "        if response.status_code == 401:\n",
    "            print(\"錯誤：請檢查你的 API Key 是否正確或有效。\")\n",
    "        elif response.status_code == 404:\n",
    "             print(f\"錯誤：找不到 CUI {cui} 的定義。\")\n",
    "    except requests.exceptions.RequestException as req_err:\n",
    "        print(f\"請求錯誤: {req_err}\")\n",
    "    except json.JSONDecodeError:\n",
    "        print(f\"錯誤：無法解析 API 回應為 JSON。回應內容: {response.text}\")\n",
    "    except Exception as e:\n",
    "        print(f\"發生未預期錯誤: {e}\")\n",
    "\n",
    "    return None\n",
    "\n",
    "# -----------------------------------------------------------------------------\n",
    "#  主程式：範例用法\n",
    "# -----------------------------------------------------------------------------\n",
    "if __name__ == \"__main__\":\n",
    "    if API_KEY == \"YOUR_API_KEY_HERE\":\n",
    "        print(\"!!! 警告：請先將程式碼中的 'YOUR_API_KEY_HERE' 替換成你自己的 UMLS API Key !!!\")\n",
    "    else:\n",
    "        # --- 範例 1：查詢 C0008031 (Chest Pain) ---\n",
    "        for node in drknows_digraph.nodes():\n",
    "            cui_to_lookup = node\n",
    "            print(f\"\\n--- 查詢 CUI: {cui_to_lookup} ---\")\n",
    "\n",
    "            # 取得基本資訊\n",
    "            basic_info = get_cui_basic_info(cui_to_lookup, API_KEY)\n",
    "            if basic_info:\n",
    "                print(\"\\n基本資訊:\")\n",
    "                print(f\"  名稱 (Name): {basic_info['name']}\")\n",
    "                print(\"  語義類型 (Semantic Types):\")\n",
    "                if basic_info['semantic_types']:\n",
    "                    for st in basic_info['semantic_types']:\n",
    "                        print(f\"    - {st['name']} (TUI: {st['tui']})\")\n",
    "                else:\n",
    "                    print(\"    - 未找到\")\n",
    "            else:\n",
    "                print(\"\\n無法取得基本資訊。\")\n",
    "\n",
    "            # 取得定義\n",
    "            definitions = get_cui_definitions(cui_to_lookup, API_KEY)\n",
    "            if definitions:\n",
    "                print(\"\\n定義 (Definitions):\")\n",
    "                for i, definition in enumerate(definitions):\n",
    "                    print(f\"  {i+1}. {definition}\")\n",
    "            else:\n",
    "                print(\"\\n未找到或無法取得定義。\") # 注意：某些CUI可能沒有定義\n"
   ]
  }
 ],
 "metadata": {
  "kernelspec": {
   "display_name": "convddx",
   "language": "python",
   "name": "python3"
  },
  "language_info": {
   "codemirror_mode": {
    "name": "ipython",
    "version": 3
   },
   "file_extension": ".py",
   "mimetype": "text/x-python",
   "name": "python",
   "nbconvert_exporter": "python",
   "pygments_lexer": "ipython3",
   "version": "3.11.11"
  },
  "vscode": {
   "interpreter": {
    "hash": "ec0005b3d2729e752c223d6cfa371d964f4763f826eb80618b2e6fa0ca41863f"
   }
  }
 },
 "nbformat": 4,
 "nbformat_minor": 2
}
